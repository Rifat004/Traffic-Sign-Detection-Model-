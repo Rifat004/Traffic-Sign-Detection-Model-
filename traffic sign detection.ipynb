{
 "cells": [
  {
   "cell_type": "code",
   "execution_count": 1,
   "metadata": {},
   "outputs": [],
   "source": [
    "import tensorflow as tf\n",
    "import numpy as np \n",
    "import pandas as pd \n",
    "import matplotlib.pyplot as plt\n",
    "from tensorflow import keras\n",
    "import cv2\n",
    "from PIL import Image\n",
    "import os"
   ]
  },
  {
   "cell_type": "markdown",
   "metadata": {},
   "source": [
    "#MARKDOWN\n",
    "class myCallback(tf.keras.callbacks.Callback):\n",
    "    def on_epoch_end(self, epoch, logs={}): \n",
    "        if(logs.get('accuracy')>0.99):\n",
    "            print(\"\\nReached 99% accuracy so cancelling training!\")\n",
    "            self.model.stop_training = True"
   ]
  },
  {
   "cell_type": "code",
   "execution_count": 7,
   "metadata": {},
   "outputs": [],
   "source": [
    "from tensorflow.keras.preprocessing.image import img_to_array"
   ]
  },
  {
   "cell_type": "code",
   "execution_count": 2,
   "metadata": {},
   "outputs": [
    {
     "name": "stdout",
     "output_type": "stream",
     "text": [
      "D:\\my project\\traffic sign/Train/0/\n",
      "D:\\my project\\traffic sign/Train/1/\n",
      "D:\\my project\\traffic sign/Train/2/\n",
      "D:\\my project\\traffic sign/Train/3/\n",
      "D:\\my project\\traffic sign/Train/4/\n",
      "D:\\my project\\traffic sign/Train/5/\n",
      "D:\\my project\\traffic sign/Train/6/\n",
      "D:\\my project\\traffic sign/Train/7/\n",
      "D:\\my project\\traffic sign/Train/8/\n",
      "D:\\my project\\traffic sign/Train/9/\n",
      "D:\\my project\\traffic sign/Train/10/\n",
      "D:\\my project\\traffic sign/Train/11/\n",
      "D:\\my project\\traffic sign/Train/12/\n",
      "D:\\my project\\traffic sign/Train/13/\n",
      "D:\\my project\\traffic sign/Train/14/\n",
      "D:\\my project\\traffic sign/Train/15/\n",
      "D:\\my project\\traffic sign/Train/16/\n",
      "D:\\my project\\traffic sign/Train/17/\n",
      "D:\\my project\\traffic sign/Train/18/\n",
      "D:\\my project\\traffic sign/Train/19/\n",
      "D:\\my project\\traffic sign/Train/20/\n",
      "D:\\my project\\traffic sign/Train/21/\n",
      "D:\\my project\\traffic sign/Train/22/\n",
      "D:\\my project\\traffic sign/Train/23/\n",
      "D:\\my project\\traffic sign/Train/24/\n",
      "D:\\my project\\traffic sign/Train/25/\n",
      "D:\\my project\\traffic sign/Train/26/\n",
      "D:\\my project\\traffic sign/Train/27/\n",
      "D:\\my project\\traffic sign/Train/28/\n",
      "D:\\my project\\traffic sign/Train/29/\n",
      "D:\\my project\\traffic sign/Train/30/\n",
      "D:\\my project\\traffic sign/Train/31/\n",
      "D:\\my project\\traffic sign/Train/32/\n",
      "D:\\my project\\traffic sign/Train/33/\n",
      "D:\\my project\\traffic sign/Train/34/\n",
      "D:\\my project\\traffic sign/Train/35/\n",
      "D:\\my project\\traffic sign/Train/36/\n",
      "D:\\my project\\traffic sign/Train/37/\n",
      "D:\\my project\\traffic sign/Train/38/\n",
      "D:\\my project\\traffic sign/Train/39/\n",
      "D:\\my project\\traffic sign/Train/40/\n",
      "D:\\my project\\traffic sign/Train/41/\n",
      "D:\\my project\\traffic sign/Train/42/\n"
     ]
    }
   ],
   "source": [
    "data=[]\n",
    "labels=[]\n",
    "\n",
    "height = 30\n",
    "width = 30\n",
    "channels = 3\n",
    "classes = 43\n",
    "n_inputs = height * width*channels\n",
    "\n",
    "for i in range(classes) :\n",
    "    path = r\"D:\\my project\\traffic sign/Train/{0}/\".format(i)\n",
    "    print(path)\n",
    "    Class=os.listdir(path)\n",
    "    for a in Class:\n",
    "        try:\n",
    "            image=cv2.imread(path+a)\n",
    "            image_from_array = Image.fromarray(image, 'RGB')\n",
    "            size_image = image_from_array.resize((height, width))\n",
    "            data.append(np.array(size_image))\n",
    "            labels.append(i)\n",
    "        except AttributeError:\n",
    "            print(\" \")\n",
    "            \n",
    "Cells=np.array(data)\n",
    "labels=np.array(labels)\n",
    "\n",
    "\n",
    "s=np.arange(Cells.shape[0])\n",
    "np.random.seed(43)\n",
    "np.random.shuffle(s)\n",
    "Cells=Cells[s]\n",
    "labels=labels[s]"
   ]
  },
  {
   "cell_type": "code",
   "execution_count": 9,
   "metadata": {},
   "outputs": [],
   "source": [
    "(X_train,X_val)=Cells[(int)(0.2*len(labels)):],Cells[:(int)(0.2*len(labels))]\n",
    "X_train = X_train.astype('float32')/255 \n",
    "X_val = X_val.astype('float32')/255\n",
    "(y_train,y_val)=labels[(int)(0.2*len(labels)):],labels[:(int)(0.2*len(labels))]\n",
    "\n",
    "\n",
    "from tensorflow.keras.utils import to_categorical\n",
    "y_train = to_categorical(y_train, 43)\n",
    "y_val = to_categorical(y_val, 43)"
   ]
  },
  {
   "cell_type": "code",
   "execution_count": null,
   "metadata": {},
   "outputs": [],
   "source": [
    "#callbacks = myCallback()"
   ]
  },
  {
   "cell_type": "code",
   "execution_count": 10,
   "metadata": {},
   "outputs": [],
   "source": [
    "import tensorflow as tf\n",
    "model = tf.keras.models.Sequential([\n",
    "    \n",
    "    tf.keras.layers.Conv2D(32, (5,5), activation='relu', input_shape=X_train.shape[1:]),\n",
    "    tf.keras.layers.Conv2D(64, (3,3), activation='relu', input_shape=X_train.shape[1:]),\n",
    "    tf.keras.layers.MaxPooling2D(2,2),\n",
    "    tf.keras.layers.Dropout(rate=0.25),\n",
    "    tf.keras.layers.Conv2D(64, (3,3), activation='relu'),\n",
    "    tf.keras.layers.MaxPooling2D(2,2),\n",
    "    tf.keras.layers.Dropout(rate=0.25),\n",
    "    tf.keras.layers.Flatten(), \n",
    "    tf.keras.layers.Dense(256, activation='relu'), \n",
    "    tf.keras.layers.Dropout(rate=0.25), \n",
    "    tf.keras.layers.Dense(43, activation='softmax')  \n",
    "])"
   ]
  },
  {
   "cell_type": "code",
   "execution_count": 11,
   "metadata": {},
   "outputs": [
    {
     "name": "stdout",
     "output_type": "stream",
     "text": [
      "Model: \"sequential\"\n",
      "_________________________________________________________________\n",
      "Layer (type)                 Output Shape              Param #   \n",
      "=================================================================\n",
      "conv2d (Conv2D)              (None, 26, 26, 32)        2432      \n",
      "_________________________________________________________________\n",
      "conv2d_1 (Conv2D)            (None, 24, 24, 64)        18496     \n",
      "_________________________________________________________________\n",
      "max_pooling2d (MaxPooling2D) (None, 12, 12, 64)        0         \n",
      "_________________________________________________________________\n",
      "dropout (Dropout)            (None, 12, 12, 64)        0         \n",
      "_________________________________________________________________\n",
      "conv2d_2 (Conv2D)            (None, 10, 10, 64)        36928     \n",
      "_________________________________________________________________\n",
      "max_pooling2d_1 (MaxPooling2 (None, 5, 5, 64)          0         \n",
      "_________________________________________________________________\n",
      "dropout_1 (Dropout)          (None, 5, 5, 64)          0         \n",
      "_________________________________________________________________\n",
      "flatten (Flatten)            (None, 1600)              0         \n",
      "_________________________________________________________________\n",
      "dense (Dense)                (None, 256)               409856    \n",
      "_________________________________________________________________\n",
      "dropout_2 (Dropout)          (None, 256)               0         \n",
      "_________________________________________________________________\n",
      "dense_1 (Dense)              (None, 43)                11051     \n",
      "=================================================================\n",
      "Total params: 478,763\n",
      "Trainable params: 478,763\n",
      "Non-trainable params: 0\n",
      "_________________________________________________________________\n"
     ]
    }
   ],
   "source": [
    "model.summary()"
   ]
  },
  {
   "cell_type": "code",
   "execution_count": 12,
   "metadata": {},
   "outputs": [],
   "source": [
    "model.compile(optimizer='adam',loss='categorical_crossentropy',metrics = ['accuracy']) #sparse_categorical_crossentropy threw an error"
   ]
  },
  {
   "cell_type": "code",
   "execution_count": 13,
   "metadata": {},
   "outputs": [
    {
     "name": "stdout",
     "output_type": "stream",
     "text": [
      "Train on 31368 samples, validate on 7841 samples\n",
      "Epoch 1/16\n",
      "31368/31368 [==============================] - 20s 635us/sample - loss: 0.9948 - accuracy: 0.7223 - val_loss: 0.1364 - val_accuracy: 0.9695\n",
      "Epoch 2/16\n",
      "31368/31368 [==============================] - 7s 229us/sample - loss: 0.1592 - accuracy: 0.9537 - val_loss: 0.0815 - val_accuracy: 0.9811\n",
      "Epoch 3/16\n",
      "31368/31368 [==============================] - 7s 231us/sample - loss: 0.0903 - accuracy: 0.9720 - val_loss: 0.0428 - val_accuracy: 0.9907\n",
      "Epoch 4/16\n",
      "31368/31368 [==============================] - 8s 240us/sample - loss: 0.0727 - accuracy: 0.9782 - val_loss: 0.0354 - val_accuracy: 0.9898\n",
      "Epoch 5/16\n",
      "31368/31368 [==============================] - 7s 223us/sample - loss: 0.0532 - accuracy: 0.9830 - val_loss: 0.0309 - val_accuracy: 0.9923\n",
      "Epoch 6/16\n",
      "31368/31368 [==============================] - 7s 231us/sample - loss: 0.0493 - accuracy: 0.9839 - val_loss: 0.0258 - val_accuracy: 0.9930\n",
      "Epoch 7/16\n",
      "31368/31368 [==============================] - 7s 210us/sample - loss: 0.0446 - accuracy: 0.9865 - val_loss: 0.0241 - val_accuracy: 0.9941\n",
      "Epoch 8/16\n",
      "31368/31368 [==============================] - 7s 215us/sample - loss: 0.0366 - accuracy: 0.9882 - val_loss: 0.0206 - val_accuracy: 0.9954\n",
      "Epoch 9/16\n",
      "31368/31368 [==============================] - 7s 224us/sample - loss: 0.0429 - accuracy: 0.9871 - val_loss: 0.0222 - val_accuracy: 0.9952\n",
      "Epoch 10/16\n",
      "31368/31368 [==============================] - 7s 235us/sample - loss: 0.0327 - accuracy: 0.9888 - val_loss: 0.0234 - val_accuracy: 0.9945\n",
      "Epoch 11/16\n",
      "31368/31368 [==============================] - 7s 231us/sample - loss: 0.0288 - accuracy: 0.9906 - val_loss: 0.0215 - val_accuracy: 0.9949\n",
      "Epoch 12/16\n",
      "31368/31368 [==============================] - 7s 230us/sample - loss: 0.0277 - accuracy: 0.9914 - val_loss: 0.0271 - val_accuracy: 0.9944\n",
      "Epoch 13/16\n",
      "31368/31368 [==============================] - 7s 227us/sample - loss: 0.0326 - accuracy: 0.9899 - val_loss: 0.0191 - val_accuracy: 0.9964\n",
      "Epoch 14/16\n",
      "31368/31368 [==============================] - 7s 221us/sample - loss: 0.0262 - accuracy: 0.9920 - val_loss: 0.0145 - val_accuracy: 0.9966\n",
      "Epoch 15/16\n",
      "31368/31368 [==============================] - 7s 215us/sample - loss: 0.0267 - accuracy: 0.9923 - val_loss: 0.0169 - val_accuracy: 0.9964\n",
      "Epoch 16/16\n",
      "31368/31368 [==============================] - 7s 216us/sample - loss: 0.0255 - accuracy: 0.9919 - val_loss: 0.0190 - val_accuracy: 0.9960\n"
     ]
    },
    {
     "ename": "KeyError",
     "evalue": "'acc'",
     "output_type": "error",
     "traceback": [
      "\u001b[1;31m---------------------------------------------------------------------------\u001b[0m",
      "\u001b[1;31mKeyError\u001b[0m                                  Traceback (most recent call last)",
      "\u001b[1;32m<ipython-input-13-476432867dfc>\u001b[0m in \u001b[0;36m<module>\u001b[1;34m\u001b[0m\n\u001b[0;32m      7\u001b[0m \u001b[1;33m\u001b[0m\u001b[0m\n\u001b[0;32m      8\u001b[0m \u001b[0mplt\u001b[0m\u001b[1;33m.\u001b[0m\u001b[0mfigure\u001b[0m\u001b[1;33m(\u001b[0m\u001b[1;36m0\u001b[0m\u001b[1;33m)\u001b[0m\u001b[1;33m\u001b[0m\u001b[1;33m\u001b[0m\u001b[0m\n\u001b[1;32m----> 9\u001b[1;33m \u001b[0mplt\u001b[0m\u001b[1;33m.\u001b[0m\u001b[0mplot\u001b[0m\u001b[1;33m(\u001b[0m\u001b[0mhistory\u001b[0m\u001b[1;33m.\u001b[0m\u001b[0mhistory\u001b[0m\u001b[1;33m[\u001b[0m\u001b[1;34m'acc'\u001b[0m\u001b[1;33m]\u001b[0m\u001b[1;33m,\u001b[0m \u001b[0mlabel\u001b[0m\u001b[1;33m=\u001b[0m\u001b[1;34m'training accuracy'\u001b[0m\u001b[1;33m)\u001b[0m\u001b[1;33m\u001b[0m\u001b[1;33m\u001b[0m\u001b[0m\n\u001b[0m\u001b[0;32m     10\u001b[0m \u001b[0mplt\u001b[0m\u001b[1;33m.\u001b[0m\u001b[0mplot\u001b[0m\u001b[1;33m(\u001b[0m\u001b[0mhistory\u001b[0m\u001b[1;33m.\u001b[0m\u001b[0mhistory\u001b[0m\u001b[1;33m[\u001b[0m\u001b[1;34m'val_acc'\u001b[0m\u001b[1;33m]\u001b[0m\u001b[1;33m,\u001b[0m \u001b[0mlabel\u001b[0m\u001b[1;33m=\u001b[0m\u001b[1;34m'val accuracy'\u001b[0m\u001b[1;33m)\u001b[0m\u001b[1;33m\u001b[0m\u001b[1;33m\u001b[0m\u001b[0m\n\u001b[0;32m     11\u001b[0m \u001b[0mplt\u001b[0m\u001b[1;33m.\u001b[0m\u001b[0mtitle\u001b[0m\u001b[1;33m(\u001b[0m\u001b[1;34m'Accuracy'\u001b[0m\u001b[1;33m)\u001b[0m\u001b[1;33m\u001b[0m\u001b[1;33m\u001b[0m\u001b[0m\n",
      "\u001b[1;31mKeyError\u001b[0m: 'acc'"
     ]
    },
    {
     "data": {
      "text/plain": [
       "<Figure size 432x288 with 0 Axes>"
      ]
     },
     "metadata": {},
     "output_type": "display_data"
    }
   ],
   "source": [
    "epochs = 16\n",
    "history = model.fit(X_train, y_train, batch_size=32, epochs=epochs,validation_data=(X_val, y_val))\n",
    "\n",
    "import matplotlib.pyplot as plt\n",
    "\n",
    "plt.figure(0)\n",
    "plt.plot(history.history['accuracy'], label='training accuracy')\n",
    "plt.plot(history.history['val_acc'], label='val accuracy')\n",
    "plt.title('Accuracy')\n",
    "plt.xlabel('epochs')\n",
    "plt.ylabel('accuracy')\n",
    "plt.legend()\n",
    "\n",
    "plt.figure(1)\n",
    "plt.plot(history.history['loss'], label='training loss')\n",
    "plt.plot(history.history['val_loss'], label='val loss')\n",
    "plt.title('Loss')\n",
    "plt.xlabel('epochs')\n",
    "plt.ylabel('loss')\n",
    "plt.legend()"
   ]
  },
  {
   "cell_type": "code",
   "execution_count": 8,
   "metadata": {},
   "outputs": [],
   "source": [
    "model.save('traffic_sign_detector.h5')"
   ]
  },
  {
   "cell_type": "code",
   "execution_count": null,
   "metadata": {},
   "outputs": [],
   "source": []
  }
 ],
 "metadata": {
  "kernelspec": {
   "display_name": "Python 3",
   "language": "python",
   "name": "python3"
  },
  "language_info": {
   "codemirror_mode": {
    "name": "ipython",
    "version": 3
   },
   "file_extension": ".py",
   "mimetype": "text/x-python",
   "name": "python",
   "nbconvert_exporter": "python",
   "pygments_lexer": "ipython3",
   "version": "3.6.10"
  }
 },
 "nbformat": 4,
 "nbformat_minor": 4
}
